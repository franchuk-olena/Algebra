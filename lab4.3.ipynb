# ��������� n � ������� 1 <= n <= 100
n = randint(1, 100)

# ��������� ���������� ����� Sn
Sn = SymmetricGroup(n)

# �������� �� �������� ���������� � ����� Sn
sigma1 = Sn.random_element()
sigma2 = Sn.random_element()

# ����������, �� � �� ���������� �������
is_sigma1_even = sigma1.is_even()
is_sigma2_even = sigma2.is_even()

print(f"ϳ��������� 1 (sigma1): {sigma1}, �����: {is_sigma1_even}")
print(f"ϳ��������� 2 (sigma2): {sigma2}, �����: {is_sigma2_even}")

# ��������� �����, ��������� ���� ����� ������������
generated_group = Sn.subgroup([sigma1, sigma2])

# ��������� ������� �����, ��������� sigma1 �� sigma2
group_order = generated_group.order()
print(f"������� �����, ��������� sigma1 �� sigma2: {group_order}")

# ��������� ������������ ����� An
An = AlternatingGroup(n)

# ����������, �� � ��������� ����� An ��� Sn
is_generated_group_An = generated_group == An
is_generated_group_Sn = generated_group == Sn

print(f"�����, ��������� sigma1 �� sigma2, ������� An: {is_generated_group_An}")
print(f"�����, ��������� sigma1 �� sigma2, ������� Sn: {is_generated_group_Sn}")

