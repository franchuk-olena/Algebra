G = SymmetricGroup(3)

order_G = G.order()
print(f"������� ����� S3: {order_G}")

divisors = divisors(order_G)
print(f"ĳ������ �������: {divisors}")

# ��������� ������� G
subgroups = G.subgroups()
print("ϳ������ S3:")
for H in subgroups:
    print(f"ϳ������: {H}, �������: {H.order()}")

exists_subgroup_order_3 = any(H.order() == 3 for H in subgroups)
print(f"�� ���� ������� ������� 3: {exists_subgroup_order_3}")
