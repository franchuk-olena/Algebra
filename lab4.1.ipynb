G = SymmetricGroup(4)

gens = G.gens()
print("T��� S4:", gens)

min_gens = G.minimal_generating_set()
print("������� ������� ������ ��� S4:", min_gens)
