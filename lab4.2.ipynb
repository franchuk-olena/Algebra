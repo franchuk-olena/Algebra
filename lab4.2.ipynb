# ��������� ����� S4, A4, S5, A5
S4 = SymmetricGroup(4)
A4 = AlternatingGroup(4)
S5 = SymmetricGroup(5)
A5 = AlternatingGroup(5)


#  S4
print("ϳ������ S4:")
for H in S4.subgroups():
    print(H)

# A4
print("\nϳ������ A4:")
for H in A4.subgroups():
    print(H)

#  S5
print("\nϳ������ S5:")
for H in S5.subgroups():
    print(H)

#  A5
print("\nϳ������ A5:")
for H in A5.subgroups():
    print(H)
